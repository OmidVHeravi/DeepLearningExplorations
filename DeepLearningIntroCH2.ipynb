{
  "nbformat": 4,
  "nbformat_minor": 0,
  "metadata": {
    "colab": {
      "provenance": [],
      "authorship_tag": "ABX9TyN41ligYWvsZQGYiorgN1YQ"
    },
    "kernelspec": {
      "name": "python3",
      "display_name": "Python 3"
    },
    "language_info": {
      "name": "python"
    }
  },
  "cells": [
    {
      "cell_type": "markdown",
      "source": [
        "#Efficient Computation"
      ],
      "metadata": {
        "id": "qlozvsnOO6c-"
      }
    },
    {
      "cell_type": "markdown",
      "source": [
        "Its very important to realize that deep learning research is much about mathemtical correctness, as it is about implementing it effectively on modern machines."
      ],
      "metadata": {
        "id": "_4pJbxOPfcWx"
      }
    },
    {
      "cell_type": "markdown",
      "source": [
        "# GPUs, TPUs, and Batches"
      ],
      "metadata": {
        "id": "GS-k0e4dfZSD"
      }
    },
    {
      "cell_type": "markdown",
      "source": [
        "* GPU: Graphical proessing units as the name implies were designed primarily for purposes of peocesssing graphical data on modern machines. However,"
      ],
      "metadata": {
        "id": "beBr6f1Lfu_b"
      }
    },
    {
      "cell_type": "code",
      "execution_count": null,
      "metadata": {
        "id": "PH2Decp_O3iY"
      },
      "outputs": [],
      "source": []
    }
  ]
}