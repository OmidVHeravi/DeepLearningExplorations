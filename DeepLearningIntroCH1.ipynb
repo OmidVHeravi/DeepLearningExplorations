{
  "nbformat": 4,
  "nbformat_minor": 0,
  "metadata": {
    "colab": {
      "provenance": [],
      "authorship_tag": "ABX9TyMmyv7P4AaWMtQzhfQr3Ot5"
    },
    "kernelspec": {
      "name": "python3",
      "display_name": "Python 3"
    },
    "language_info": {
      "name": "python"
    }
  },
  "cells": [
    {
      "cell_type": "markdown",
      "source": [
        "#The Little Book of Deep Learning by François Fleuret\n",
        "\n",
        "https://fleuret.org/public/lbdl.pdf\n",
        "\n",
        "These following series of notebooks will consist of my personal code and explanations as I work thorugh the textbook mentioned above."
      ],
      "metadata": {
        "id": "ep__2XV9nH2Y"
      }
    },
    {
      "cell_type": "markdown",
      "source": [
        "# Learning From Data\n",
        "\n",
        "* $ \\text{Training Data} =  D = \\text{Set} \\{(x_i, y_i)\\}_{i=1}^N$\n",
        "\n",
        "* $F$ is the parametric model\n",
        "\n",
        "* $w$ is the trainable parameter, also called weights.\n",
        "\n",
        "* $\\hat{y} = F(x,w)$ where $\\hat{y}$ is the predicted value\n",
        "\n",
        "* $w \\to w^*$ is the process by which we tune or train the paramter $w$ to achieve better outcome predictions\n",
        "\n",
        "* $Λ(w)$ is the Loss function by which we essentially assess when our parametric model, $F$, is good enough or not. The smaller the valus of $Λ(w)$, the better our model $F$."
      ],
      "metadata": {
        "id": "yBUZPEBn-Qab"
      }
    },
    {
      "cell_type": "markdown",
      "source": [
        "# Basis Function Regression"
      ],
      "metadata": {
        "id": "dpQ1-hL9-SFL"
      }
    },
    {
      "cell_type": "markdown",
      "source": [
        "Suppose we have that our paramteric model is a very basic linear combination of some pre-defined basis of functions say; $(f_1,...,f_K)$ and respectively with weights $(w_1,...,w_K)$. Defined as:\n",
        "$$\n",
        "F(x,w) = \\sum_{i=1}^{K} w_i \\cdot f_i\n",
        "$$"
      ],
      "metadata": {
        "id": "sT26rG1HBMvc"
      }
    },
    {
      "cell_type": "markdown",
      "source": [
        "Most common loss function is the ***Mean Squared Error***. Defined as:\n",
        "$$\n",
        "Λ(w) = \\frac{1}{N}\\sum_{i=1}^{N} (y_i - F(x_i, w))^2\n",
        "$$"
      ],
      "metadata": {
        "id": "kjpS_d8qAvAE"
      }
    },
    {
      "cell_type": "markdown",
      "source": [
        "Now observe that since our paramteric model $F$ is linear with respect to $w_i$'s and on the other hand the loss function $Λ$ is quadratic with respect to $F$, thus $Λ$ is also quadratic with respect to $w_i$'s as well, hence trying to minimize the loss function or find better weights $w^*$, it simplifies to solving a linear system."
      ],
      "metadata": {
        "id": "HYVsbL2-B22p"
      }
    },
    {
      "cell_type": "code",
      "source": [],
      "metadata": {
        "id": "9b3pKk92A7h6"
      },
      "execution_count": null,
      "outputs": []
    },
    {
      "cell_type": "markdown",
      "source": [
        "# Under and Overfitting"
      ],
      "metadata": {
        "id": "ilU47Qdm-UxN"
      }
    },
    {
      "cell_type": "markdown",
      "source": [
        "# Categories of models"
      ],
      "metadata": {
        "id": "OX_bUVRc-a02"
      }
    },
    {
      "cell_type": "code",
      "source": [],
      "metadata": {
        "id": "w0HUhlyPd_io"
      },
      "execution_count": null,
      "outputs": []
    }
  ]
}