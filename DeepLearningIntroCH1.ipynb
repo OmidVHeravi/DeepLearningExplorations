{
  "nbformat": 4,
  "nbformat_minor": 0,
  "metadata": {
    "colab": {
      "provenance": [],
      "authorship_tag": "ABX9TyPrK1eCxkQAzNeEH+eXiFzw"
    },
    "kernelspec": {
      "name": "python3",
      "display_name": "Python 3"
    },
    "language_info": {
      "name": "python"
    }
  },
  "cells": [
    {
      "cell_type": "markdown",
      "source": [
        "#The Little Book of Deep Learning by François Fleuret\n",
        "\n",
        "https://fleuret.org/public/lbdl.pdf\n",
        "\n",
        "These following series of notebooks will consist of my personal code and explanations as I work thorugh the textbook mentioned above."
      ],
      "metadata": {
        "id": "ep__2XV9nH2Y"
      }
    },
    {
      "cell_type": "markdown",
      "source": [
        "# Learning From Data\n",
        "\n",
        "* $ \\text{Training Data} =  D = \\text{Set} \\{(x_i, y_i)\\}_{i=1}^N$\n",
        "\n",
        "* $F$ is the parametric model\n",
        "\n",
        "* $w$ is the trainable parameter, also called weights.\n",
        "\n",
        "* $\\hat{y} = F(x,w)$ where $\\hat{y}$ is the predicted value\n",
        "\n",
        "* $w \\to w^*$ is the process by which we tune or train the paramter $w$ to achieve better outcome predictions\n",
        "\n",
        "* $Λ(w)$ is the Loss function by which we essentially assess when our parametric model, $F$, is good enough or not. The smaller the valus of $Λ(w)$, the better our model $F$."
      ],
      "metadata": {
        "id": "yBUZPEBn-Qab"
      }
    },
    {
      "cell_type": "markdown",
      "source": [
        "# Basis function regression\n",
        "\n"
      ],
      "metadata": {
        "id": "dpQ1-hL9-SFL"
      }
    },
    {
      "cell_type": "markdown",
      "source": [
        "# Under and Overfitting"
      ],
      "metadata": {
        "id": "ilU47Qdm-UxN"
      }
    },
    {
      "cell_type": "markdown",
      "source": [
        "# Categories of models"
      ],
      "metadata": {
        "id": "OX_bUVRc-a02"
      }
    },
    {
      "cell_type": "code",
      "source": [],
      "metadata": {
        "id": "w0HUhlyPd_io"
      },
      "execution_count": null,
      "outputs": []
    }
  ]
}