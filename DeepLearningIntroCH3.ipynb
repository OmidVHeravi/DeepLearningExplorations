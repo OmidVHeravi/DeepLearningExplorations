{
  "nbformat": 4,
  "nbformat_minor": 0,
  "metadata": {
    "colab": {
      "provenance": [],
      "authorship_tag": "ABX9TyPZta4JBAYWMqlHrEvLfdGO"
    },
    "kernelspec": {
      "name": "python3",
      "display_name": "Python 3"
    },
    "language_info": {
      "name": "python"
    }
  },
  "cells": [
    {
      "cell_type": "markdown",
      "source": [
        "#Training"
      ],
      "metadata": {
        "id": "26r437QI7EAg"
      }
    },
    {
      "cell_type": "markdown",
      "source": [
        "Whilst training a machine learning model, the most crucial step occurs when we make the choise of which loss function to use. Recall that a loss function, $Λ(w)$, which measures the amount of error our due to our model, $F( Δ, w)$, is producing on some training set $Δ$. Hence the loss function plays a crucial role in the success of our model, moreover the most important step in training also occurs how we choose to minimize this loss funciton, namely how we wish to optimize the performance of our model."
      ],
      "metadata": {
        "id": "cidntlKc7I4l"
      }
    },
    {
      "cell_type": "markdown",
      "source": [
        "## Loss Functions"
      ],
      "metadata": {
        "id": "IGxFzGey8LAo"
      }
    },
    {
      "cell_type": "markdown",
      "source": [
        "* Mean Squared Error: $$\n",
        "Λ(w) = \\frac{1}{N}\\sum_{i=1}^{N} (y_i - F(x_i, w))^2\n",
        "$$\n",
        "is the most common loss function for prediction of continious values."
      ],
      "metadata": {
        "id": "QFQ8-y7P-30b"
      }
    },
    {
      "cell_type": "markdown",
      "source": [
        "*"
      ],
      "metadata": {
        "id": "Nnq3EhaO_UIO"
      }
    },
    {
      "cell_type": "code",
      "execution_count": null,
      "metadata": {
        "id": "zkAKwXqG7DkY"
      },
      "outputs": [],
      "source": []
    }
  ]
}